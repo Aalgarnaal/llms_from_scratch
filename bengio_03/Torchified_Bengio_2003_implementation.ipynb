{
 "cells": [
  {
   "cell_type": "code",
   "execution_count": 47,
   "id": "07edc5e1-a9dd-47e2-b0b0-59f734a9af40",
   "metadata": {},
   "outputs": [],
   "source": [
    "import numpy as np\n",
    "import torch\n",
    "import torch.nn.functional as F\n",
    "import random\n",
    "import matplotlib.pyplot as plt"
   ]
  },
  {
   "cell_type": "code",
   "execution_count": 48,
   "id": "202c3201-50c1-4adf-ac1e-1098c925aec2",
   "metadata": {},
   "outputs": [
    {
     "data": {
      "text/plain": [
       "(torch.Size([182778, 3]),\n",
       " torch.Size([182778]),\n",
       " torch.Size([22633, 3]),\n",
       " torch.Size([22633]),\n",
       " torch.Size([22735, 3]),\n",
       " torch.Size([22735]))"
      ]
     },
     "execution_count": 48,
     "metadata": {},
     "output_type": "execute_result"
    }
   ],
   "source": [
    "# opening the file in read mode \n",
    "my_file = open(\"../data/names.txt\", \"r\") \n",
    "# reading the file \n",
    "data = my_file.read()\n",
    "# split the names into a list\n",
    "name_list = data.split('\\n')\n",
    "name_list = [\".\"+x for x in name_list]\n",
    "\n",
    "chartoix = {char: ix for ix, char in enumerate(sorted(set(\"\".join(name_list))))}\n",
    "ixtochar = {ix: char for ix, char in enumerate(sorted(set(\"\".join(name_list))))}\n",
    "\n",
    "block_size = 3\n",
    "def build_x_y(name_list, block_size):\n",
    "    # Create a dataset with, for each example, all possible X and Y combinations we can extract from it\n",
    "    y_list = []\n",
    "    x_list = []\n",
    "    for name in name_list:\n",
    "        for target_ix, target_letter in enumerate(name):\n",
    "            previous_letters = name[max(-(block_size)+target_ix,0):target_ix] # This will extract the previous 3 letters\n",
    "            num_pads = block_size - len(previous_letters)\n",
    "            previous_letters = \".\"*num_pads + previous_letters\n",
    "            #print(previous_letters + \"-->\" + target_letter)\n",
    "            y_list.append(chartoix[target_letter])\n",
    "            x_list.append([chartoix[input_letter] for input_letter in previous_letters])\n",
    "            \n",
    "    X = torch.tensor(x_list) # Tensor with 3 dimensional list, input letter index\n",
    "    Y = torch.tensor(y_list) # Tensor with 1 dimensional output\n",
    "    return X,Y\n",
    "\n",
    "ix_80_pct = int(0.8*len(name_list))\n",
    "ix_90_pct = int(0.9*len(name_list))\n",
    "\n",
    "X_train, Y_train = build_x_y(name_list[:ix_80_pct],block_size=block_size)\n",
    "X_val, Y_val= build_x_y(name_list[ix_80_pct:ix_90_pct],block_size=block_size)\n",
    "X_test, Y_test = build_x_y(name_list[ix_90_pct:],block_size=block_size)\n",
    "\n",
    "X_train.shape, Y_train.shape, X_val.shape, Y_val.shape, X_test.shape, Y_test.shape"
   ]
  },
  {
   "cell_type": "code",
   "execution_count": 49,
   "id": "4234c89c-8ca7-4059-a88b-fc6d3a6c31d5",
   "metadata": {},
   "outputs": [],
   "source": [
    "class Linear:\n",
    "\n",
    "    def __init__(self, fan_in, fan_out, bias = True):\n",
    "        self.weight = torch.randn((fan_in, fan_out), generator = g) / fan_in**0.5 #Kaimin initialisation\n",
    "        self.bias = torch.randn(fan_out) if bias else None\n",
    "\n",
    "    def __call__(self, x): #Forward pass\n",
    "        self.out = x @ self.weight\n",
    "        if self.bias is not None:\n",
    "            self.out += self.bias\n",
    "        return self.out\n",
    "\n",
    "    def parameters(self):\n",
    "        return [self.weight] + ([] if self.bias is None else [self.bias])\n",
    "\n",
    "class BatchNorm1d:\n",
    "\n",
    "    def __init__(self, dim, eps=1e-5, momentum=0.1):\n",
    "        self.eps=eps\n",
    "        self.momentum=momentum\n",
    "        self.training=True\n",
    "        #parameters for scaling the batchnorm\n",
    "        self.gamma = torch.ones(dim)\n",
    "        self.beta = torch.zeros(dim)\n",
    "        #running mean and std\n",
    "        self.running_mean = torch.zeros(dim)\n",
    "        self.running_var = torch.ones(dim)\n",
    "\n",
    "    def __call__(self, x): #Forward pass can be during training or inference depending on self.training\n",
    "           \n",
    "        if self.training:\n",
    "            batch_mean_i = x.mean(0,keepdims=True) \n",
    "            batch_var_i = x.var(0,keepdims=True)\n",
    "\n",
    "            with torch.no_grad():\n",
    "                self.running_mean = (1-momentum)*self.running_mean + momentum*batch_mean_i\n",
    "                self.running_var = (1-momentum)*self.running_var + momentum*batch_var_i\n",
    "\n",
    "        else:\n",
    "            \n",
    "            batch_mean_i = self.running_mean\n",
    "            batch_var_i = self.running_var\n",
    "\n",
    "        x_hat = x - batch_mean_i / torch.sqrt(batch_var_i + self.eps)\n",
    "        self.out = self.gamma * x_hat + self.beta\n",
    "\n",
    "        return self.out\n",
    "    \n",
    "    def parameters(self):\n",
    "        return [self.gamma, self.beta]\n",
    "\n",
    "class Tanh:\n",
    "    def __call__(self, x):\n",
    "        self.out = torch.tanh(x)\n",
    "        return self.out\n",
    "    def parameters(self):\n",
    "        return []\n"
   ]
  },
  {
   "cell_type": "code",
   "execution_count": 50,
   "id": "63bb1521-a633-4ed4-938a-756367e2fb9f",
   "metadata": {},
   "outputs": [],
   "source": [
    "n_embd = 10\n",
    "n_hidden = 100\n",
    "vocab_size = len(chartoix)\n",
    "g = torch.Generator().manual_seed(2147483647)\n",
    "\n",
    "C = torch.randn((vocab_size,n_embd), generator=g)\n",
    "layers = [\n",
    "    Linear(block_size*n_embd, n_hidden), Tanh(),\n",
    "    Linear(n_hidden, n_hidden), Tanh(),\n",
    "    Linear(n_hidden, n_hidden), Tanh(),\n",
    "    Linear(n_hidden, n_hidden), Tanh(),\n",
    "    Linear(n_hidden, n_hidden), Tanh(),\n",
    "    Linear(n_hidden, vocab_size),\n",
    "]\n",
    "\n",
    "# We scale down the last layer's weights before giving the final output\n",
    "with torch.no_grad():\n",
    "    layers[-1].weight *= 0.1 #for the last layer only\n",
    "    for layer in layers[:-1]: \n",
    "        if isinstance(layer,Linear): #for all other layers\n",
    "            layer.weight *= 5/3 # This is the gain of the Kaiming init for tanh. The / sqrt(n) is already part of the class\n",
    "\n",
    "parameters = [[C]] + [layer.parameters() for layer in layers]\n",
    "flattened_params = [item for sublist in parameters for item in sublist]"
   ]
  },
  {
   "cell_type": "code",
   "execution_count": 51,
   "id": "2bb35b3c-2645-4d56-9c0e-0bfd5027592f",
   "metadata": {},
   "outputs": [
    {
     "name": "stdout",
     "output_type": "stream",
     "text": [
      "Total number of params: 46497\n"
     ]
    }
   ],
   "source": [
    "print(f\"Total number of params: {sum([params.nelement() for params in flattened_params])}\")"
   ]
  },
  {
   "cell_type": "code",
   "execution_count": 52,
   "id": "3f021caa-c32b-4425-9017-8cd4196019ad",
   "metadata": {},
   "outputs": [],
   "source": [
    "for p in flattened_params:\n",
    "    p.requires_grad = True"
   ]
  },
  {
   "cell_type": "code",
   "execution_count": 53,
   "id": "6601b816-beda-4baa-8871-1cf2631c8f31",
   "metadata": {},
   "outputs": [
    {
     "name": "stdout",
     "output_type": "stream",
     "text": [
      "Iteration 0, Loss: 3.835615396499634\n",
      "Iteration 1000, Loss: 2.3101096153259277\n",
      "Iteration 2000, Loss: 2.1977717876434326\n",
      "Iteration 3000, Loss: 1.7147551774978638\n",
      "Iteration 4000, Loss: 2.068455696105957\n",
      "Iteration 5000, Loss: 2.1486518383026123\n",
      "Iteration 6000, Loss: 1.9925795793533325\n",
      "Iteration 7000, Loss: 2.31303071975708\n",
      "Iteration 8000, Loss: 2.536254405975342\n",
      "Iteration 9000, Loss: 2.141249895095825\n",
      "Iteration 10000, Loss: 1.8326630592346191\n",
      "Iteration 11000, Loss: 2.137824058532715\n",
      "Iteration 12000, Loss: 1.965027093887329\n",
      "Iteration 13000, Loss: 1.8927412033081055\n",
      "Iteration 14000, Loss: 1.7326115369796753\n",
      "Iteration 15000, Loss: 2.3985354900360107\n",
      "Iteration 16000, Loss: 1.916867971420288\n",
      "Iteration 17000, Loss: 2.4486608505249023\n",
      "Iteration 18000, Loss: 2.310098171234131\n",
      "Iteration 19000, Loss: 1.9837645292282104\n",
      "Iteration 20000, Loss: 1.9946435689926147\n",
      "Iteration 21000, Loss: 1.7928227186203003\n",
      "Iteration 22000, Loss: 2.0167088508605957\n",
      "Iteration 23000, Loss: 1.9258376359939575\n",
      "Iteration 24000, Loss: 2.29217529296875\n",
      "Iteration 25000, Loss: 1.9005255699157715\n",
      "Iteration 26000, Loss: 2.4251956939697266\n",
      "Iteration 27000, Loss: 2.0397017002105713\n",
      "Iteration 28000, Loss: 2.1825084686279297\n",
      "Iteration 29000, Loss: 1.9034719467163086\n",
      "Iteration 30000, Loss: 1.780271291732788\n",
      "Iteration 31000, Loss: 1.7104873657226562\n",
      "Iteration 32000, Loss: 1.857745885848999\n",
      "Iteration 33000, Loss: 1.4975030422210693\n",
      "Iteration 34000, Loss: 1.8965765237808228\n",
      "Iteration 35000, Loss: 2.5337791442871094\n",
      "Iteration 36000, Loss: 1.9079934358596802\n",
      "Iteration 37000, Loss: 2.228344202041626\n",
      "Iteration 38000, Loss: 1.6923831701278687\n",
      "Iteration 39000, Loss: 1.8247108459472656\n",
      "Iteration 40000, Loss: 1.7390575408935547\n",
      "Iteration 41000, Loss: 1.5371862649917603\n",
      "Iteration 42000, Loss: 1.913334846496582\n",
      "Iteration 43000, Loss: 2.0614516735076904\n",
      "Iteration 44000, Loss: 2.015643835067749\n",
      "Iteration 45000, Loss: 2.178623914718628\n",
      "Iteration 46000, Loss: 2.3312418460845947\n",
      "Iteration 47000, Loss: 2.015549421310425\n",
      "Iteration 48000, Loss: 1.7038604021072388\n",
      "Iteration 49000, Loss: 1.621063232421875\n",
      "Iteration 50000, Loss: 2.1346893310546875\n",
      "Iteration 51000, Loss: 2.1446597576141357\n",
      "Iteration 52000, Loss: 1.927047848701477\n",
      "Iteration 53000, Loss: 1.6755566596984863\n",
      "Iteration 54000, Loss: 1.7605578899383545\n",
      "Iteration 55000, Loss: 1.9403566122055054\n",
      "Iteration 56000, Loss: 1.8298749923706055\n",
      "Iteration 57000, Loss: 1.95877206325531\n",
      "Iteration 58000, Loss: 1.930093765258789\n",
      "Iteration 59000, Loss: 1.7254900932312012\n",
      "Iteration 60000, Loss: 2.1986749172210693\n",
      "Iteration 61000, Loss: 2.410154342651367\n",
      "Iteration 62000, Loss: 1.850144386291504\n",
      "Iteration 63000, Loss: 1.9263331890106201\n",
      "Iteration 64000, Loss: 2.068962574005127\n",
      "Iteration 65000, Loss: 1.7197906970977783\n",
      "Iteration 66000, Loss: 1.988227367401123\n",
      "Iteration 67000, Loss: 1.8876451253890991\n",
      "Iteration 68000, Loss: 1.9056414365768433\n",
      "Iteration 69000, Loss: 1.774694561958313\n",
      "Iteration 70000, Loss: 1.5432077646255493\n",
      "Iteration 71000, Loss: 2.0523431301116943\n",
      "Iteration 72000, Loss: 1.4513683319091797\n",
      "Iteration 73000, Loss: 1.9828178882598877\n",
      "Iteration 74000, Loss: 1.9436160326004028\n",
      "Iteration 75000, Loss: 1.9993606805801392\n",
      "Iteration 76000, Loss: 2.190192461013794\n",
      "Iteration 77000, Loss: 1.89839506149292\n",
      "Iteration 78000, Loss: 1.7533929347991943\n",
      "Iteration 79000, Loss: 1.6095753908157349\n",
      "Iteration 80000, Loss: 1.676374077796936\n",
      "Iteration 81000, Loss: 1.9227222204208374\n",
      "Iteration 82000, Loss: 1.9552524089813232\n",
      "Iteration 83000, Loss: 1.9826104640960693\n",
      "Iteration 84000, Loss: 1.8338432312011719\n",
      "Iteration 85000, Loss: 1.9956194162368774\n",
      "Iteration 86000, Loss: 1.6949084997177124\n",
      "Iteration 87000, Loss: 1.9245262145996094\n",
      "Iteration 88000, Loss: 1.926011085510254\n",
      "Iteration 89000, Loss: 2.2696707248687744\n",
      "Iteration 90000, Loss: 2.057955026626587\n",
      "Iteration 91000, Loss: 1.5370088815689087\n",
      "Iteration 92000, Loss: 2.0445268154144287\n",
      "Iteration 93000, Loss: 2.031654119491577\n",
      "Iteration 94000, Loss: 2.007769823074341\n",
      "Iteration 95000, Loss: 2.194859504699707\n",
      "Iteration 96000, Loss: 1.5564234256744385\n",
      "Iteration 97000, Loss: 1.7733060121536255\n",
      "Iteration 98000, Loss: 1.8220356702804565\n",
      "Iteration 99000, Loss: 2.0982162952423096\n"
     ]
    }
   ],
   "source": [
    "steps = 100000\n",
    "batch_size = 32\n",
    "lossi = []\n",
    "for i in range(steps):\n",
    "    ###### Minibatch #######\n",
    "    minibatch_ix = torch.randint(0,len(X_train),(batch_size,), generator = g)\n",
    "    Xb, Yb = X_train[minibatch_ix], Y_train[minibatch_ix]\n",
    "    \n",
    "    ###### Forward pass ########\n",
    "    embs = C[Xb]\n",
    "    x = embs.view(embs.shape[0],-1)\n",
    "    for layer in layers:\n",
    "        x = layer(x)\n",
    "    loss = F.cross_entropy(x, Yb)\n",
    "    \n",
    "    ###### Backward pass ########\n",
    "    for layer in layers:\n",
    "        layer.out.retain_grad()\n",
    "    for p in flattened_params:\n",
    "        p.grad = None\n",
    "    loss.backward()\n",
    "\n",
    "    lr = 0.1 if i < 50000 else 0.01\n",
    "    for p in flattened_params:\n",
    "        p.data += -lr*p.grad\n",
    "\n",
    "    if i % 1000 == 0:\n",
    "        print(f\"Iteration {i}, Loss: {loss.item()}\")\n",
    "    lossi.append(loss.item())"
   ]
  },
  {
   "cell_type": "code",
   "execution_count": 54,
   "id": "85e41f20-317b-4df7-995e-8463353cb760",
   "metadata": {},
   "outputs": [
    {
     "name": "stdout",
     "output_type": "stream",
     "text": [
      "Saturation layer 1: 32.78%\n",
      "Saturation layer 3: 32.00%\n",
      "Saturation layer 5: 36.31%\n",
      "Saturation layer 7: 32.38%\n",
      "Saturation layer 9: 17.19%\n"
     ]
    },
    {
     "data": {
      "image/png": "[encoded data removed]",
      "text/plain": [
       "<Figure size 640x480 with 1 Axes>"
      ]
     },
     "metadata": {},
     "output_type": "display_data"
    }
   ],
   "source": [
    "# Let's investigate whats happening to the activations in each layer (after Tanh)\n",
    "plt.figure()\n",
    "with torch.no_grad():\n",
    "    for layer_ix, layer in enumerate(layers[:-1]): \n",
    "        if isinstance(layer,Tanh): #for all other layers\n",
    "            output = layer.out\n",
    "            output_vals = layer.out.view(-1).tolist()\n",
    "            print(f\"Saturation layer {layer_ix}: {100*(np.abs(output_vals) > 0.99).sum() / len(output_vals):.2f}%\")\n",
    "            plt.hist(output_vals,bins=100,label=f\"Layer: {layer_ix}\")\n",
    "plt.legend()            \n",
    "plt.show()"
   ]
  },
  {
   "cell_type": "code",
   "execution_count": 57,
   "id": "19f6cd98-f9a2-47d8-90d6-3680305f98a3",
   "metadata": {},
   "outputs": [
    {
     "data": {
      "image/png": "[encoded data removed]",
      "text/plain": [
       "<Figure size 640x480 with 1 Axes>"
      ]
     },
     "metadata": {},
     "output_type": "display_data"
    }
   ],
   "source": [
    "# Let's investigate whats happening to the gradients in each layer (after Tanh)\n",
    "plt.figure()\n",
    "with torch.no_grad():\n",
    "    for layer_ix, layer in enumerate(layers[:-1]): \n",
    "        if isinstance(layer,Tanh): #for all other layers\n",
    "            output = layer.out.grad\n",
    "            output_vals = output.view(-1).tolist()\n",
    "            plt.hist(output_vals,bins=100,label=f\"Layer: {layer_ix}\")\n",
    "plt.legend()            \n",
    "plt.show()"
   ]
  },
  {
   "cell_type": "code",
   "execution_count": 58,
   "id": "195ba4af-4acb-42cf-ad68-2ff79faf7b87",
   "metadata": {},
   "outputs": [
    {
     "name": "stdout",
     "output_type": "stream",
     "text": [
      "torch.Size([27, 10])   |  Mean: -0.004      | Std: 1.141  |  G/D ratio: 0.013\n",
      "torch.Size([30, 100])   |  Mean: 0.008      | Std: 0.396  |  G/D ratio: 0.092\n",
      "torch.Size([100, 100])   |  Mean: -0.003      | Std: 0.234  |  G/D ratio: -0.040\n",
      "torch.Size([100, 100])   |  Mean: -0.000      | Std: 0.229  |  G/D ratio: -0.037\n",
      "torch.Size([100, 100])   |  Mean: 0.003      | Std: 0.224  |  G/D ratio: -0.596\n",
      "torch.Size([100, 100])   |  Mean: -0.003      | Std: 0.203  |  G/D ratio: -0.066\n",
      "torch.Size([100, 27])   |  Mean: -0.000      | Std: 0.174  |  G/D ratio: -1.796\n"
     ]
    }
   ],
   "source": [
    "# Let's investigate the gradient updates to the weights specifically\n",
    "with torch.no_grad():\n",
    "    for params in flattened_params:\n",
    "        if params.ndim == 2: #We dont care about biases, or batchnorm parameters\n",
    "            vals = params.view(-1).tolist()\n",
    "            grads = params.grad.view(-1).tolist()\n",
    "            grad_data_ratio = (params.grad/params).view(-1).tolist()\n",
    "            print(f\"{params.shape}   |  Mean: {np.mean(vals):.3f}      | Std: {np.std(vals):.3f}  |  G/D ratio: {np.mean(grad_data_ratio):.3f}\")"
   ]
  },
  {
   "cell_type": "code",
   "execution_count": null,
   "id": "33f7bcf7-f9e0-46a8-a7a3-2701f508e53b",
   "metadata": {},
   "outputs": [],
   "source": []
  }
 ],
 "metadata": {
  "kernelspec": {
   "display_name": "Python 3 (ipykernel)",
   "language": "python",
   "name": "python3"
  },
  "language_info": {
   "codemirror_mode": {
    "name": "ipython",
    "version": 3
   },
   "file_extension": ".py",
   "mimetype": "text/x-python",
   "name": "python",
   "nbconvert_exporter": "python",
   "pygments_lexer": "ipython3",
   "version": "3.11.7"
  }
 },
 "nbformat": 4,
 "nbformat_minor": 5
}
