{
 "cells": [
  {
   "cell_type": "code",
   "execution_count": 10,
   "id": "07edc5e1-a9dd-47e2-b0b0-59f734a9af40",
   "metadata": {},
   "outputs": [],
   "source": [
    "import numpy as np\n",
    "import torch\n",
    "import torch.nn.functional as F\n",
    "import random"
   ]
  },
  {
   "cell_type": "code",
   "execution_count": 11,
   "id": "202c3201-50c1-4adf-ac1e-1098c925aec2",
   "metadata": {},
   "outputs": [
    {
     "data": {
      "text/plain": [
       "(torch.Size([182778, 3]),\n",
       " torch.Size([182778]),\n",
       " torch.Size([22633, 3]),\n",
       " torch.Size([22633]),\n",
       " torch.Size([22735, 3]),\n",
       " torch.Size([22735]))"
      ]
     },
     "execution_count": 11,
     "metadata": {},
     "output_type": "execute_result"
    }
   ],
   "source": [
    "# opening the file in read mode \n",
    "my_file = open(\"../data/names.txt\", \"r\") \n",
    "# reading the file \n",
    "data = my_file.read()\n",
    "# split the names into a list\n",
    "name_list = data.split('\\n')\n",
    "name_list = [\".\"+x for x in name_list]\n",
    "\n",
    "chartoix = {char: ix for ix, char in enumerate(sorted(set(\"\".join(name_list))))}\n",
    "ixtochar = {ix: char for ix, char in enumerate(sorted(set(\"\".join(name_list))))}\n",
    "\n",
    "block_size = 3\n",
    "def build_x_y(name_list, block_size):\n",
    "    # Create a dataset with, for each example, all possible X and Y combinations we can extract from it\n",
    "    y_list = []\n",
    "    x_list = []\n",
    "    for name in name_list:\n",
    "        for target_ix, target_letter in enumerate(name):\n",
    "            previous_letters = name[max(-(block_size)+target_ix,0):target_ix] # This will extract the previous 3 letters\n",
    "            num_pads = block_size - len(previous_letters)\n",
    "            previous_letters = \".\"*num_pads + previous_letters\n",
    "            #print(previous_letters + \"-->\" + target_letter)\n",
    "            y_list.append(chartoix[target_letter])\n",
    "            x_list.append([chartoix[input_letter] for input_letter in previous_letters])\n",
    "            \n",
    "    X = torch.tensor(x_list) # Tensor with 3 dimensional list, input letter index\n",
    "    Y = torch.tensor(y_list) # Tensor with 1 dimensional output\n",
    "    return X,Y\n",
    "\n",
    "ix_80_pct = int(0.8*len(name_list))\n",
    "ix_90_pct = int(0.9*len(name_list))\n",
    "\n",
    "X_train, Y_train = build_x_y(name_list[:ix_80_pct],block_size=block_size)\n",
    "X_val, Y_val= build_x_y(name_list[ix_80_pct:ix_90_pct],block_size=block_size)\n",
    "X_test, Y_test = build_x_y(name_list[ix_90_pct:],block_size=block_size)\n",
    "\n",
    "X_train.shape, Y_train.shape, X_val.shape, Y_val.shape, X_test.shape, Y_test.shape"
   ]
  },
  {
   "cell_type": "code",
   "execution_count": 12,
   "id": "4234c89c-8ca7-4059-a88b-fc6d3a6c31d5",
   "metadata": {},
   "outputs": [],
   "source": [
    "class Linear:\n",
    "\n",
    "    def __init__(self, fan_in, fan_out, bias = True):\n",
    "        self.weight = torch.randn((fan_in, fan_out), generator = g) / fan_in**0.5 #Kaimin initialisation\n",
    "        self.bias = torch.randn(fan_out) if bias else None\n",
    "\n",
    "    def __call__(self, x): #Forward pass\n",
    "        self.out = x @ self.weight\n",
    "        if self.bias is not None:\n",
    "            self.out += self.bias\n",
    "        return self.out\n",
    "\n",
    "    def parameters(self):\n",
    "        return [self.weight] + ([] if self.bias is None else [self.bias])\n",
    "\n",
    "class BatchNorm1d:\n",
    "\n",
    "    def __init__(self, dim, eps=1e-5, momentum=0.1):\n",
    "        self.eps=eps\n",
    "        self.momentum=momentum\n",
    "        self.training=True\n",
    "        #parameters for scaling the batchnorm\n",
    "        self.gamma = torch.ones(dim)\n",
    "        self.beta = torch.zeros(dim)\n",
    "        #running mean and std\n",
    "        self.running_mean = torch.zeros(dim)\n",
    "        self.running_var = torch.ones(dim)\n",
    "\n",
    "    def __call__(self, x): #Forward pass can be during training or inference depending on self.training\n",
    "           \n",
    "        if self.training:\n",
    "            batch_mean_i = x.mean(0,keepdims=True) \n",
    "            batch_var_i = x.var(0,keepdims=True)\n",
    "\n",
    "            with torch.no_grad():\n",
    "                self.running_mean = (1-momentum)*self.running_mean + momentum*batch_mean_i\n",
    "                self.running_var = (1-momentum)*self.running_var + momentum*batch_var_i\n",
    "\n",
    "        else:\n",
    "            \n",
    "            batch_mean_i = self.running_mean\n",
    "            batch_var_i = self.running_var\n",
    "\n",
    "        x_hat = x - batch_mean_i / torch.sqrt(batch_var_i + self.eps)\n",
    "        self.out = self.gamma * x_hat + self.beta\n",
    "\n",
    "        return self.out\n",
    "    \n",
    "    def parameters(self):\n",
    "        return [self.gamma, self.beta]\n",
    "\n",
    "class Tanh:\n",
    "    def __call__(self, x):\n",
    "        self.out = torch.tanh(x)\n",
    "        return self.out\n",
    "    def parameters(self):\n",
    "        return []\n"
   ]
  },
  {
   "cell_type": "code",
   "execution_count": 13,
   "id": "63bb1521-a633-4ed4-938a-756367e2fb9f",
   "metadata": {},
   "outputs": [],
   "source": [
    "n_embd = 10\n",
    "n_hidden = 100\n",
    "vocab_size = len(chartoix)\n",
    "g = torch.Generator().manual_seed(2147483647)\n",
    "\n",
    "C = torch.randn((vocab_size,n_embd), generator=g)\n",
    "layers = [\n",
    "    Linear(block_size*n_embd, n_hidden), Tanh(),\n",
    "    Linear(n_hidden, n_hidden), Tanh(),\n",
    "    Linear(n_hidden, n_hidden), Tanh(),\n",
    "    Linear(n_hidden, n_hidden), Tanh(),\n",
    "    Linear(n_hidden, n_hidden), Tanh(),\n",
    "    Linear(n_hidden, vocab_size),\n",
    "]\n",
    "\n",
    "# We scale down the last layer's weights before giving the final output\n",
    "with torch.no_grad():\n",
    "    layers[-1].weight *= 0.1 #for the last layer only\n",
    "    for layer in layers[:-1]: \n",
    "        if isinstance(layer,Linear): #for all other layers\n",
    "            layer.weight *= 5/3 # This is the gain of the Kaimin init. The / sqrt(n) is already part of the class\n",
    "\n",
    "parameters = [[C]] + [layer.parameters() for layer in layers]\n",
    "flattened_params = [item for sublist in parameters for item in sublist]"
   ]
  },
  {
   "cell_type": "code",
   "execution_count": 14,
   "id": "2bb35b3c-2645-4d56-9c0e-0bfd5027592f",
   "metadata": {},
   "outputs": [
    {
     "name": "stdout",
     "output_type": "stream",
     "text": [
      "Total number of params: 46497\n"
     ]
    }
   ],
   "source": [
    "print(f\"Total number of params: {sum([params.nelement() for params in flattened_params])}\")"
   ]
  },
  {
   "cell_type": "code",
   "execution_count": 15,
   "id": "3f021caa-c32b-4425-9017-8cd4196019ad",
   "metadata": {},
   "outputs": [],
   "source": [
    "for p in flattened_params:\n",
    "    p.requires_grad = True"
   ]
  },
  {
   "cell_type": "code",
   "execution_count": 18,
   "id": "6601b816-beda-4baa-8871-1cf2631c8f31",
   "metadata": {},
   "outputs": [
    {
     "name": "stdout",
     "output_type": "stream",
     "text": [
      "Iteration 0, Loss: 1.8782804012298584\n",
      "Iteration 1000, Loss: 2.385084390640259\n",
      "Iteration 2000, Loss: 2.0015838146209717\n",
      "Iteration 3000, Loss: 2.2290639877319336\n",
      "Iteration 4000, Loss: 2.041823148727417\n",
      "Iteration 5000, Loss: 1.4566975831985474\n",
      "Iteration 6000, Loss: 1.710499882698059\n",
      "Iteration 7000, Loss: 2.0581700801849365\n",
      "Iteration 8000, Loss: 2.0209033489227295\n",
      "Iteration 9000, Loss: 1.86842942237854\n"
     ]
    }
   ],
   "source": [
    "steps = 10000\n",
    "batch_size = 32\n",
    "lossi = []\n",
    "for i in range(steps):\n",
    "    ###### Minibatch #######\n",
    "    minibatch_ix = torch.randint(0,len(X_train),(batch_size,), generator = g)\n",
    "    Xb, Yb = X_train[minibatch_ix], Y_train[minibatch_ix]\n",
    "    \n",
    "    ###### Forward pass ########\n",
    "    embs = C[Xb]\n",
    "    x = embs.view(embs.shape[0],-1)\n",
    "    for layer in layers:\n",
    "        x = layer(x)\n",
    "    loss = F.cross_entropy(x, Yb)\n",
    "    \n",
    "    ###### Backward pass ########\n",
    "    for layer in layers:\n",
    "        layer.out.retain_grad()\n",
    "    for p in flattened_params:\n",
    "        p.grad = None\n",
    "    loss.backward()\n",
    "\n",
    "    lr = 0.1 if i < 50000 else 0.01\n",
    "    for p in flattened_params:\n",
    "        p.data += -lr*p.grad\n",
    "\n",
    "    if i % 1000 == 0:\n",
    "        print(f\"Iteration {i}, Loss: {loss.item()}\")\n",
    "    lossi.append(loss.item())"
   ]
  }
 ],
 "metadata": {
  "kernelspec": {
   "display_name": "Python 3 (ipykernel)",
   "language": "python",
   "name": "python3"
  },
  "language_info": {
   "codemirror_mode": {
    "name": "ipython",
    "version": 3
   },
   "file_extension": ".py",
   "mimetype": "text/x-python",
   "name": "python",
   "nbconvert_exporter": "python",
   "pygments_lexer": "ipython3",
   "version": "3.11.7"
  }
 },
 "nbformat": 4,
 "nbformat_minor": 5
}
