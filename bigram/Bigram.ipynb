{
 "cells": [
  {
   "cell_type": "code",
   "execution_count": 4,
   "id": "5e2f0021",
   "metadata": {},
   "outputs": [],
   "source": [
    "import numpy as np\n",
    "import seaborn as sns\n",
    "import matplotlib.pyplot as plt\n",
    "from collections import Counter\n",
    "import torch\n",
    "from torch.utils.data import DataLoader, TensorDataset\n",
    "from sklearn.preprocessing import LabelEncoder\n",
    "import numpy as np"
   ]
  },
  {
   "cell_type": "code",
   "execution_count": 5,
   "id": "19df1235",
   "metadata": {},
   "outputs": [],
   "source": [
    "# opening the file in read mode \n",
    "my_file = open(\"names.txt\", \"r\") \n",
    "# reading the file \n",
    "data = my_file.read()\n",
    "# split the names into a list\n",
    "name_list = data.split('\\n')"
   ]
  },
  {
   "cell_type": "markdown",
   "id": "059fa917",
   "metadata": {},
   "source": [
    "# Let's build a bigram model using a simple heuristic"
   ]
  },
  {
   "cell_type": "markdown",
   "id": "72f46820",
   "metadata": {},
   "source": [
    "We will start by extracting all combinations of two letters in the text"
   ]
  },
  {
   "cell_type": "code",
   "execution_count": 6,
   "id": "3875018b",
   "metadata": {},
   "outputs": [],
   "source": [
    "name_list = [\"%\"+x.lower()+\".\" for x in name_list]"
   ]
  },
  {
   "cell_type": "code",
   "execution_count": 7,
   "id": "5ecb487e",
   "metadata": {},
   "outputs": [],
   "source": [
    "two_letter_combinations = [name[i:i+2] for name in name_list for i in range(len(name) - 1)]"
   ]
  },
  {
   "cell_type": "code",
   "execution_count": 8,
   "id": "74d94ff7",
   "metadata": {},
   "outputs": [],
   "source": [
    "two_letter_counts = Counter(two_letter_combinations)"
   ]
  },
  {
   "cell_type": "code",
   "execution_count": 9,
   "id": "c3322d71",
   "metadata": {},
   "outputs": [],
   "source": [
    "unique_chars = sorted(set((\"\".join(name_list))))\n",
    "char_to_index = {char: index for index, char in enumerate(unique_chars)}\n",
    "index_to_char = {index: char for index, char in enumerate(unique_chars)}\n",
    "N = len(unique_chars)"
   ]
  },
  {
   "cell_type": "code",
   "execution_count": 10,
   "id": "c29d420b",
   "metadata": {},
   "outputs": [],
   "source": [
    "counts_array = np.zeros((N, N), dtype=int)\n",
    "# Filling the counts array\n",
    "for combination, count in two_letter_counts.items():\n",
    "    row = char_to_index[combination[0]]\n",
    "    col = char_to_index[combination[1]]\n",
    "    counts_array[row, col] = count"
   ]
  },
  {
   "cell_type": "code",
   "execution_count": 22,
   "id": "0a25f445-eee9-41b9-b00c-b358c87903f0",
   "metadata": {},
   "outputs": [
    {
     "data": {
      "text/plain": [
       "array([['%%\\n0', '%.\\n0', '%a\\n4410', '%b\\n1306', '%c\\n1542', '%d\\n1690',\n",
       "        '%e\\n1531', '%f\\n417', '%g\\n669', '%h\\n874', '%i\\n591',\n",
       "        '%j\\n2422', '%k\\n2963', '%l\\n1572', '%m\\n2538', '%n\\n1146',\n",
       "        '%o\\n394', '%p\\n515', '%q\\n92', '%r\\n1639', '%s\\n2055',\n",
       "        '%t\\n1308', '%u\\n78', '%v\\n376', '%w\\n307', '%x\\n134', '%y\\n535',\n",
       "        '%z\\n929'],\n",
       "       ['.%\\n0', '..\\n0', '.a\\n0', '.b\\n0', '.c\\n0', '.d\\n0', '.e\\n0',\n",
       "        '.f\\n0', '.g\\n0', '.h\\n0', '.i\\n0', '.j\\n0', '.k\\n0', '.l\\n0',\n",
       "        '.m\\n0', '.n\\n0', '.o\\n0', '.p\\n0', '.q\\n0', '.r\\n0', '.s\\n0',\n",
       "        '.t\\n0', '.u\\n0', '.v\\n0', '.w\\n0', '.x\\n0', '.y\\n0', '.z\\n0'],\n",
       "       ['a%\\n0', 'a.\\n6640', 'aa\\n556', 'ab\\n541', 'ac\\n470', 'ad\\n1042',\n",
       "        'ae\\n692', 'af\\n134', 'ag\\n168', 'ah\\n2332', 'ai\\n1650',\n",
       "        'aj\\n175', 'ak\\n568', 'al\\n2528', 'am\\n1634', 'an\\n5438',\n",
       "        'ao\\n63', 'ap\\n82', 'aq\\n60', 'ar\\n3264', 'as\\n1118', 'at\\n687',\n",
       "        'au\\n381', 'av\\n834', 'aw\\n161', 'ax\\n182', 'ay\\n2050',\n",
       "        'az\\n435'],\n",
       "       ['b%\\n0', 'b.\\n114', 'ba\\n321', 'bb\\n38', 'bc\\n1', 'bd\\n65',\n",
       "        'be\\n655', 'bf\\n0', 'bg\\n0', 'bh\\n41', 'bi\\n217', 'bj\\n1',\n",
       "        'bk\\n0', 'bl\\n103', 'bm\\n0', 'bn\\n4', 'bo\\n105', 'bp\\n0',\n",
       "        'bq\\n0', 'br\\n842', 'bs\\n8', 'bt\\n2', 'bu\\n45', 'bv\\n0', 'bw\\n0',\n",
       "        'bx\\n0', 'by\\n83', 'bz\\n0'],\n",
       "       ['c%\\n0', 'c.\\n97', 'ca\\n815', 'cb\\n0', 'cc\\n42', 'cd\\n1',\n",
       "        'ce\\n551', 'cf\\n0', 'cg\\n2', 'ch\\n664', 'ci\\n271', 'cj\\n3',\n",
       "        'ck\\n316', 'cl\\n116', 'cm\\n0', 'cn\\n0', 'co\\n380', 'cp\\n1',\n",
       "        'cq\\n11', 'cr\\n76', 'cs\\n5', 'ct\\n35', 'cu\\n35', 'cv\\n0',\n",
       "        'cw\\n0', 'cx\\n3', 'cy\\n104', 'cz\\n4'],\n",
       "       ['d%\\n0', 'd.\\n516', 'da\\n1303', 'db\\n1', 'dc\\n3', 'dd\\n149',\n",
       "        'de\\n1283', 'df\\n5', 'dg\\n25', 'dh\\n118', 'di\\n674', 'dj\\n9',\n",
       "        'dk\\n3', 'dl\\n60', 'dm\\n30', 'dn\\n31', 'do\\n378', 'dp\\n0',\n",
       "        'dq\\n1', 'dr\\n424', 'ds\\n29', 'dt\\n4', 'du\\n92', 'dv\\n17',\n",
       "        'dw\\n23', 'dx\\n0', 'dy\\n317', 'dz\\n1'],\n",
       "       ['e%\\n0', 'e.\\n3983', 'ea\\n679', 'eb\\n121', 'ec\\n153', 'ed\\n384',\n",
       "        'ee\\n1271', 'ef\\n82', 'eg\\n125', 'eh\\n152', 'ei\\n818', 'ej\\n55',\n",
       "        'ek\\n178', 'el\\n3248', 'em\\n769', 'en\\n2675', 'eo\\n269',\n",
       "        'ep\\n83', 'eq\\n14', 'er\\n1958', 'es\\n861', 'et\\n580', 'eu\\n69',\n",
       "        'ev\\n463', 'ew\\n50', 'ex\\n132', 'ey\\n1070', 'ez\\n181'],\n",
       "       ['f%\\n0', 'f.\\n80', 'fa\\n242', 'fb\\n0', 'fc\\n0', 'fd\\n0',\n",
       "        'fe\\n123', 'ff\\n44', 'fg\\n1', 'fh\\n1', 'fi\\n160', 'fj\\n0',\n",
       "        'fk\\n2', 'fl\\n20', 'fm\\n0', 'fn\\n4', 'fo\\n60', 'fp\\n0', 'fq\\n0',\n",
       "        'fr\\n114', 'fs\\n6', 'ft\\n18', 'fu\\n10', 'fv\\n0', 'fw\\n4',\n",
       "        'fx\\n0', 'fy\\n14', 'fz\\n2'],\n",
       "       ['g%\\n0', 'g.\\n108', 'ga\\n330', 'gb\\n3', 'gc\\n0', 'gd\\n19',\n",
       "        'ge\\n334', 'gf\\n1', 'gg\\n25', 'gh\\n360', 'gi\\n190', 'gj\\n3',\n",
       "        'gk\\n0', 'gl\\n32', 'gm\\n6', 'gn\\n27', 'go\\n83', 'gp\\n0', 'gq\\n0',\n",
       "        'gr\\n201', 'gs\\n30', 'gt\\n31', 'gu\\n85', 'gv\\n1', 'gw\\n26',\n",
       "        'gx\\n0', 'gy\\n31', 'gz\\n1'],\n",
       "       ['h%\\n0', 'h.\\n2409', 'ha\\n2244', 'hb\\n8', 'hc\\n2', 'hd\\n24',\n",
       "        'he\\n674', 'hf\\n2', 'hg\\n2', 'hh\\n1', 'hi\\n729', 'hj\\n9',\n",
       "        'hk\\n29', 'hl\\n185', 'hm\\n117', 'hn\\n138', 'ho\\n287', 'hp\\n1',\n",
       "        'hq\\n1', 'hr\\n204', 'hs\\n31', 'ht\\n71', 'hu\\n166', 'hv\\n39',\n",
       "        'hw\\n10', 'hx\\n0', 'hy\\n213', 'hz\\n20'],\n",
       "       ['i%\\n0', 'i.\\n2489', 'ia\\n2445', 'ib\\n110', 'ic\\n509', 'id\\n440',\n",
       "        'ie\\n1653', 'if\\n101', 'ig\\n428', 'ih\\n95', 'ii\\n82', 'ij\\n76',\n",
       "        'ik\\n445', 'il\\n1345', 'im\\n427', 'in\\n2126', 'io\\n588',\n",
       "        'ip\\n53', 'iq\\n52', 'ir\\n849', 'is\\n1316', 'it\\n541', 'iu\\n109',\n",
       "        'iv\\n269', 'iw\\n8', 'ix\\n89', 'iy\\n779', 'iz\\n277'],\n",
       "       ['j%\\n0', 'j.\\n71', 'ja\\n1473', 'jb\\n1', 'jc\\n4', 'jd\\n4',\n",
       "        'je\\n440', 'jf\\n0', 'jg\\n0', 'jh\\n45', 'ji\\n119', 'jj\\n2',\n",
       "        'jk\\n2', 'jl\\n9', 'jm\\n5', 'jn\\n2', 'jo\\n479', 'jp\\n1', 'jq\\n0',\n",
       "        'jr\\n11', 'js\\n7', 'jt\\n2', 'ju\\n202', 'jv\\n5', 'jw\\n6', 'jx\\n0',\n",
       "        'jy\\n10', 'jz\\n0'],\n",
       "       ['k%\\n0', 'k.\\n363', 'ka\\n1731', 'kb\\n2', 'kc\\n2', 'kd\\n2',\n",
       "        'ke\\n895', 'kf\\n1', 'kg\\n0', 'kh\\n307', 'ki\\n509', 'kj\\n2',\n",
       "        'kk\\n20', 'kl\\n139', 'km\\n9', 'kn\\n26', 'ko\\n344', 'kp\\n0',\n",
       "        'kq\\n0', 'kr\\n109', 'ks\\n95', 'kt\\n17', 'ku\\n50', 'kv\\n2',\n",
       "        'kw\\n34', 'kx\\n0', 'ky\\n379', 'kz\\n2'],\n",
       "       ['l%\\n0', 'l.\\n1314', 'la\\n2623', 'lb\\n52', 'lc\\n25', 'ld\\n138',\n",
       "        'le\\n2921', 'lf\\n22', 'lg\\n6', 'lh\\n19', 'li\\n2480', 'lj\\n6',\n",
       "        'lk\\n24', 'll\\n1345', 'lm\\n60', 'ln\\n14', 'lo\\n692', 'lp\\n15',\n",
       "        'lq\\n3', 'lr\\n18', 'ls\\n94', 'lt\\n77', 'lu\\n324', 'lv\\n72',\n",
       "        'lw\\n16', 'lx\\n0', 'ly\\n1588', 'lz\\n10'],\n",
       "       ['m%\\n0', 'm.\\n516', 'ma\\n2590', 'mb\\n112', 'mc\\n51', 'md\\n24',\n",
       "        'me\\n818', 'mf\\n1', 'mg\\n0', 'mh\\n5', 'mi\\n1256', 'mj\\n7',\n",
       "        'mk\\n1', 'ml\\n5', 'mm\\n168', 'mn\\n20', 'mo\\n452', 'mp\\n38',\n",
       "        'mq\\n0', 'mr\\n97', 'ms\\n35', 'mt\\n4', 'mu\\n139', 'mv\\n3',\n",
       "        'mw\\n2', 'mx\\n0', 'my\\n287', 'mz\\n11'],\n",
       "       ['n%\\n0', 'n.\\n6763', 'na\\n2977', 'nb\\n8', 'nc\\n213', 'nd\\n704',\n",
       "        'ne\\n1359', 'nf\\n11', 'ng\\n273', 'nh\\n26', 'ni\\n1725', 'nj\\n44',\n",
       "        'nk\\n58', 'nl\\n195', 'nm\\n19', 'nn\\n1906', 'no\\n496', 'np\\n5',\n",
       "        'nq\\n2', 'nr\\n44', 'ns\\n278', 'nt\\n443', 'nu\\n96', 'nv\\n55',\n",
       "        'nw\\n11', 'nx\\n6', 'ny\\n465', 'nz\\n145'],\n",
       "       ['o%\\n0', 'o.\\n855', 'oa\\n149', 'ob\\n140', 'oc\\n114', 'od\\n190',\n",
       "        'oe\\n132', 'of\\n34', 'og\\n44', 'oh\\n171', 'oi\\n69', 'oj\\n16',\n",
       "        'ok\\n68', 'ol\\n619', 'om\\n261', 'on\\n2411', 'oo\\n115', 'op\\n95',\n",
       "        'oq\\n3', 'or\\n1059', 'os\\n504', 'ot\\n118', 'ou\\n275', 'ov\\n176',\n",
       "        'ow\\n114', 'ox\\n45', 'oy\\n103', 'oz\\n54'],\n",
       "       ['p%\\n0', 'p.\\n33', 'pa\\n209', 'pb\\n2', 'pc\\n1', 'pd\\n0',\n",
       "        'pe\\n197', 'pf\\n1', 'pg\\n0', 'ph\\n204', 'pi\\n61', 'pj\\n1',\n",
       "        'pk\\n1', 'pl\\n16', 'pm\\n1', 'pn\\n1', 'po\\n59', 'pp\\n39', 'pq\\n0',\n",
       "        'pr\\n151', 'ps\\n16', 'pt\\n17', 'pu\\n4', 'pv\\n0', 'pw\\n0',\n",
       "        'px\\n0', 'py\\n12', 'pz\\n0'],\n",
       "       ['q%\\n0', 'q.\\n28', 'qa\\n13', 'qb\\n0', 'qc\\n0', 'qd\\n0', 'qe\\n1',\n",
       "        'qf\\n0', 'qg\\n0', 'qh\\n0', 'qi\\n13', 'qj\\n0', 'qk\\n0', 'ql\\n1',\n",
       "        'qm\\n2', 'qn\\n0', 'qo\\n2', 'qp\\n0', 'qq\\n0', 'qr\\n1', 'qs\\n2',\n",
       "        'qt\\n0', 'qu\\n206', 'qv\\n0', 'qw\\n3', 'qx\\n0', 'qy\\n0', 'qz\\n0'],\n",
       "       ['r%\\n0', 'r.\\n1377', 'ra\\n2356', 'rb\\n41', 'rc\\n99', 'rd\\n187',\n",
       "        're\\n1697', 'rf\\n9', 'rg\\n76', 'rh\\n121', 'ri\\n3033', 'rj\\n25',\n",
       "        'rk\\n90', 'rl\\n413', 'rm\\n162', 'rn\\n140', 'ro\\n869', 'rp\\n14',\n",
       "        'rq\\n16', 'rr\\n425', 'rs\\n190', 'rt\\n208', 'ru\\n252', 'rv\\n80',\n",
       "        'rw\\n21', 'rx\\n3', 'ry\\n773', 'rz\\n23'],\n",
       "       ['s%\\n0', 's.\\n1169', 'sa\\n1201', 'sb\\n21', 'sc\\n60', 'sd\\n9',\n",
       "        'se\\n884', 'sf\\n2', 'sg\\n2', 'sh\\n1285', 'si\\n684', 'sj\\n2',\n",
       "        'sk\\n82', 'sl\\n279', 'sm\\n90', 'sn\\n24', 'so\\n531', 'sp\\n51',\n",
       "        'sq\\n1', 'sr\\n55', 'ss\\n461', 'st\\n765', 'su\\n185', 'sv\\n14',\n",
       "        'sw\\n24', 'sx\\n0', 'sy\\n215', 'sz\\n10'],\n",
       "       ['t%\\n0', 't.\\n483', 'ta\\n1027', 'tb\\n1', 'tc\\n17', 'td\\n0',\n",
       "        'te\\n716', 'tf\\n2', 'tg\\n2', 'th\\n647', 'ti\\n532', 'tj\\n3',\n",
       "        'tk\\n0', 'tl\\n134', 'tm\\n4', 'tn\\n22', 'to\\n667', 'tp\\n0',\n",
       "        'tq\\n0', 'tr\\n352', 'ts\\n35', 'tt\\n374', 'tu\\n78', 'tv\\n15',\n",
       "        'tw\\n11', 'tx\\n2', 'ty\\n341', 'tz\\n105'],\n",
       "       ['u%\\n0', 'u.\\n155', 'ua\\n163', 'ub\\n103', 'uc\\n103', 'ud\\n136',\n",
       "        'ue\\n169', 'uf\\n19', 'ug\\n47', 'uh\\n58', 'ui\\n121', 'uj\\n14',\n",
       "        'uk\\n93', 'ul\\n301', 'um\\n154', 'un\\n275', 'uo\\n10', 'up\\n16',\n",
       "        'uq\\n10', 'ur\\n414', 'us\\n474', 'ut\\n82', 'uu\\n3', 'uv\\n37',\n",
       "        'uw\\n86', 'ux\\n34', 'uy\\n13', 'uz\\n45'],\n",
       "       ['v%\\n0', 'v.\\n88', 'va\\n642', 'vb\\n1', 'vc\\n0', 'vd\\n1',\n",
       "        've\\n568', 'vf\\n0', 'vg\\n0', 'vh\\n1', 'vi\\n911', 'vj\\n0',\n",
       "        'vk\\n3', 'vl\\n14', 'vm\\n0', 'vn\\n8', 'vo\\n153', 'vp\\n0', 'vq\\n0',\n",
       "        'vr\\n48', 'vs\\n0', 'vt\\n0', 'vu\\n7', 'vv\\n7', 'vw\\n0', 'vx\\n0',\n",
       "        'vy\\n121', 'vz\\n0'],\n",
       "       ['w%\\n0', 'w.\\n51', 'wa\\n280', 'wb\\n1', 'wc\\n0', 'wd\\n8',\n",
       "        'we\\n149', 'wf\\n2', 'wg\\n1', 'wh\\n23', 'wi\\n148', 'wj\\n0',\n",
       "        'wk\\n6', 'wl\\n13', 'wm\\n2', 'wn\\n58', 'wo\\n36', 'wp\\n0', 'wq\\n0',\n",
       "        'wr\\n22', 'ws\\n20', 'wt\\n8', 'wu\\n25', 'wv\\n0', 'ww\\n2', 'wx\\n0',\n",
       "        'wy\\n73', 'wz\\n1'],\n",
       "       ['x%\\n0', 'x.\\n164', 'xa\\n103', 'xb\\n1', 'xc\\n4', 'xd\\n5',\n",
       "        'xe\\n36', 'xf\\n3', 'xg\\n0', 'xh\\n1', 'xi\\n102', 'xj\\n0', 'xk\\n0',\n",
       "        'xl\\n39', 'xm\\n1', 'xn\\n1', 'xo\\n41', 'xp\\n0', 'xq\\n0', 'xr\\n0',\n",
       "        'xs\\n31', 'xt\\n70', 'xu\\n5', 'xv\\n0', 'xw\\n3', 'xx\\n38',\n",
       "        'xy\\n30', 'xz\\n19'],\n",
       "       ['y%\\n0', 'y.\\n2007', 'ya\\n2143', 'yb\\n27', 'yc\\n115', 'yd\\n272',\n",
       "        'ye\\n301', 'yf\\n12', 'yg\\n30', 'yh\\n22', 'yi\\n192', 'yj\\n23',\n",
       "        'yk\\n86', 'yl\\n1104', 'ym\\n148', 'yn\\n1826', 'yo\\n271', 'yp\\n15',\n",
       "        'yq\\n6', 'yr\\n291', 'ys\\n401', 'yt\\n104', 'yu\\n141', 'yv\\n106',\n",
       "        'yw\\n4', 'yx\\n28', 'yy\\n23', 'yz\\n78'],\n",
       "       ['z%\\n0', 'z.\\n160', 'za\\n860', 'zb\\n4', 'zc\\n2', 'zd\\n2',\n",
       "        'ze\\n373', 'zf\\n0', 'zg\\n1', 'zh\\n43', 'zi\\n364', 'zj\\n2',\n",
       "        'zk\\n2', 'zl\\n123', 'zm\\n35', 'zn\\n4', 'zo\\n110', 'zp\\n2',\n",
       "        'zq\\n0', 'zr\\n32', 'zs\\n4', 'zt\\n4', 'zu\\n73', 'zv\\n2', 'zw\\n3',\n",
       "        'zx\\n1', 'zy\\n147', 'zz\\n45']], dtype=object)"
      ]
     },
     "execution_count": 22,
     "metadata": {},
     "output_type": "execute_result"
    }
   ],
   "source": [
    "annotated_array"
   ]
  },
  {
   "cell_type": "code",
   "execution_count": 24,
   "id": "c9cd1eb0",
   "metadata": {},
   "outputs": [
    {
     "data": {
      "image/png": "[encoded data removed]",
      "text/plain": [
       "<Figure size 2000x2000 with 2 Axes>"
      ]
     },
     "metadata": {},
     "output_type": "display_data"
    }
   ],
   "source": [
    "annotated_array = np.empty(counts_array.shape, dtype=object)\n",
    "for i in range(counts_array.shape[0]):\n",
    "    for j in range(counts_array.shape[1]):\n",
    "        annotated_array[i, j] = f\"{unique_chars[i]}{unique_chars[j]}\\n{counts_array[i, j]}\"\n",
    "\n",
    "# Plotting the heatmap with annotated array\n",
    "plt.figure(figsize=(20, 20))\n",
    "ax = sns.heatmap(counts_array, annot=annotated_array, fmt=\"\", cmap=\"YlGnBu\", linewidths=.5, cbar_kws={'label': 'Count'})\n",
    "plt.title('Two-letter Combination Counts')\n",
    "plt.xticks([])  # Remove x-axis labels\n",
    "plt.yticks([])  # Remove y-axis labels\n",
    "plt.show()"
   ]
  },
  {
   "cell_type": "markdown",
   "id": "7182997c",
   "metadata": {},
   "source": [
    "Great, we have all letter combinations. We'd like the model to now start doing some random sampling. Before we do that, let's turn the above array data into probability distributions. This can be achieved by dividing all numbers by the sum of the row. We will also add a smoothing parameter."
   ]
  },
  {
   "cell_type": "code",
   "execution_count": 14,
   "id": "ed0c2470",
   "metadata": {},
   "outputs": [
    {
     "name": "stderr",
     "output_type": "stream",
     "text": [
      "/var/folders/mx/3hswn6k931sfmpc03h5192xc0000gn/T/ipykernel_3114/1249997086.py:1: RuntimeWarning: invalid value encountered in divide\n",
      "  bigram_distributions = counts_array / counts_array.sum(axis=1,keepdims=True)\n"
     ]
    }
   ],
   "source": [
    "bigram_distributions = counts_array / counts_array.sum(axis=1,keepdims=True)"
   ]
  },
  {
   "cell_type": "code",
   "execution_count": 15,
   "id": "dceea710",
   "metadata": {},
   "outputs": [
    {
     "name": "stdout",
     "output_type": "stream",
     "text": [
      "['cadrii.', 'jiahlyilisai.', 'ler.', 'sis.', 'joriee.', 'valyli.', 'mohlayn.', 'af.', 'avih.', 'e.']\n"
     ]
    }
   ],
   "source": [
    "all_words = []\n",
    "for i in range(10):\n",
    "    sampled_word = \"\"\n",
    "    letter = \"%\"\n",
    "    while letter != \".\":\n",
    "        letter_ix = char_to_index[letter]\n",
    "        sampling_distribution = bigram_distributions[letter_ix]\n",
    "        #sampling_distribution = np.ones(27)/27\n",
    "        sampled_index = np.random.choice(len(sampling_distribution), size=1, p=sampling_distribution)[0]\n",
    "        letter = index_to_char[sampled_index]\n",
    "        sampled_word+=letter\n",
    "    all_words.append(sampled_word)\n",
    "print(all_words)"
   ]
  },
  {
   "cell_type": "markdown",
   "id": "bd34f00d",
   "metadata": {},
   "source": [
    "These results look pretty terrible. But how bad are they really? We can verify by sampling from a uniform distribution to see how bad this is in comparison"
   ]
  },
  {
   "cell_type": "code",
   "execution_count": 16,
   "id": "12e230eb",
   "metadata": {},
   "outputs": [
    {
     "name": "stdout",
     "output_type": "stream",
     "text": [
      "['skejt%uw%fjfofqmjwlnmaucxexgrbmkvlfwmdf.', '%mfddrcnmoadsi%revgelg.', 'achhgqirlccuajlgnvqhyj%levdipnvjxywrslbnhlofnibeyciopydtlkjexyi%olb.', 'scrhgkolsd.', 'lrknjfqggextqlotuxbqdiydcwopjdbgcabffgdckgsqwwpqrioq%k.', 'hpuylh.', 'rehapkgdlwnwtoypkoxdbpirv.', 'irekoyxsujoqfqediq%xtmbjpcavwtccr.', 'qbe%h%xslnkwewbsx%kciinvcaongbjppxfjdhnkcwyvaadqodynwcvu.', 'wqawfbwhmbgtnsnfvjalmnhfjdiygartcdjrswnbdevokidhk.']\n"
     ]
    }
   ],
   "source": [
    "all_words = []\n",
    "for i in range(10):\n",
    "    sampled_word = \"\"\n",
    "    letter = \"%\"\n",
    "    while letter != \".\":\n",
    "        letter_ix = char_to_index[letter]\n",
    "        #sampling_distribution = bigram_distributions[letter_ix]\n",
    "        sampling_distribution = np.ones(27)/27\n",
    "        sampled_index = np.random.choice(len(sampling_distribution), size=1, p=sampling_distribution)[0]\n",
    "        letter = index_to_char[sampled_index]\n",
    "        sampled_word+=letter\n",
    "    all_words.append(sampled_word)\n",
    "print(all_words)"
   ]
  },
  {
   "cell_type": "markdown",
   "id": "a5a27c16",
   "metadata": {},
   "source": [
    "Okay our model is not actually that bad! The concept of vowels following consonants is pretty well learned using this simple sampling approach. Let's quantify the result a bit better."
   ]
  },
  {
   "cell_type": "markdown",
   "id": "67fb7d92",
   "metadata": {},
   "source": [
    "# Let's now try it with a NN using fundamental torch tensors and matrix multiplication"
   ]
  },
  {
   "cell_type": "code",
   "execution_count": 17,
   "id": "0ae919b1",
   "metadata": {},
   "outputs": [],
   "source": [
    "# Start with a list of inputs (x) and outputs (y). Convert to integers.\n",
    "x = [char_to_index[pair[0]] for pair in two_letter_combinations]\n",
    "y = [char_to_index[pair[1]] for pair in two_letter_combinations]"
   ]
  },
  {
   "cell_type": "code",
   "execution_count": 18,
   "id": "e72b892c",
   "metadata": {},
   "outputs": [],
   "source": [
    "x_ohe = np.eye(N)[x]"
   ]
  },
  {
   "cell_type": "code",
   "execution_count": 19,
   "id": "fc1d4384",
   "metadata": {},
   "outputs": [],
   "source": [
    "# Convert to PyTorch tensors\n",
    "X_tensor = torch.tensor(x_ohe)\n",
    "Y_tensor = torch.tensor(y)"
   ]
  },
  {
   "cell_type": "code",
   "execution_count": 20,
   "id": "167ab934",
   "metadata": {
    "scrolled": true
   },
   "outputs": [
    {
     "name": "stdout",
     "output_type": "stream",
     "text": [
      "4.193135585250758\n",
      "3.491448581868215\n",
      "3.2333327188178598\n",
      "3.1175234206505658\n",
      "3.0481914219721196\n",
      "2.9980238938594725\n",
      "2.95783557993516\n",
      "2.9240541228148444\n",
      "2.8949156909716054\n",
      "2.8693648421299915\n",
      "2.8466793323344795\n",
      "2.8263336267184314\n",
      "2.8079354402160384\n",
      "2.791187470998225\n",
      "2.775860851714358\n",
      "2.761776086289301\n",
      "2.7487893791324582\n",
      "2.7367829449333745\n",
      "2.725658202357771\n",
      "2.71533101291765\n",
      "2.705728344421148\n",
      "2.696785916232598\n",
      "2.688446518474886\n",
      "2.68065879459036\n",
      "2.6733763443140104\n",
      "2.6665570499971554\n",
      "2.6601625599352734\n",
      "2.654157882816321\n",
      "2.6485110611197387\n",
      "2.6431929006358295\n",
      "2.6381767398027103\n",
      "2.633438247260435\n",
      "2.628955239502083\n",
      "2.6247075131161273\n",
      "2.620676688074442\n",
      "2.6168460599582235\n",
      "2.6132004600253356\n",
      "2.6097261226870696\n",
      "2.6064105603536105\n",
      "2.6032424457939602\n",
      "2.600211502199077\n",
      "2.597308401088749\n",
      "2.5945246681045395\n",
      "2.591852596613804\n",
      "2.5892851689340373\n",
      "2.58681598488532\n",
      "2.5844391972978364\n",
      "2.5821494540431726\n",
      "2.5799418461215504\n",
      "2.577811861319636\n",
      "2.575755342951859\n",
      "2.5737684532087273\n",
      "2.5718476406552964\n",
      "2.5699896114487895\n",
      "2.56819130387411\n",
      "2.566449865827731\n",
      "2.564762634912751\n",
      "2.563127120839744\n",
      "2.561540989858668\n",
      "2.560002050976032\n",
      "2.5585082437385025\n",
      "2.557057627388938\n",
      "2.555648371223536\n",
      "2.554278745999291\n",
      "2.5529471162594266\n",
      "2.551651933461027\n",
      "2.550391729803763\n",
      "2.5491651126716985\n",
      "2.5479707596116365\n",
      "2.546807413781643\n",
      "2.5456738798122034\n",
      "2.544569020030275\n",
      "2.5434917510032027\n",
      "2.542441040365364\n",
      "2.541415903895442\n",
      "2.540415402816617\n",
      "2.5394386412957553\n",
      "2.5384847641208528\n",
      "2.5375529545388216\n",
      "2.536642432238036\n",
      "2.535752451462104\n",
      "2.534882299243031\n",
      "2.534031293743441\n",
      "2.533198782698758\n",
      "2.532384141951311\n",
      "2.531586774069265\n",
      "2.530806107044024\n",
      "2.530041593060447\n",
      "2.529292707334781\n",
      "2.528558947015691\n",
      "2.5278398301442357\n",
      "2.5271348946689582\n",
      "2.526443697512629\n",
      "2.525765813687437\n",
      "2.525100835455684\n",
      "2.5244483715332806\n",
      "2.5238080463335026\n",
      "2.5231794992486916\n",
      "2.5225623839677227\n",
      "2.5219563678272148\n",
      "2.521361131194593\n",
      "2.5207763668812593\n",
      "2.520201779584196\n",
      "2.5196370853544905\n",
      "2.519082011091318\n",
      "2.518536294060043\n",
      "2.5179996814331567\n",
      "2.517471929852883\n",
      "2.5169528050143137\n",
      "2.516442081268034\n",
      "2.515939541241259\n",
      "2.515444975476535\n",
      "2.514958182087152\n",
      "2.51447896642843\n",
      "2.5140071407841167\n",
      "2.513542524067151\n",
      "2.5130849415341205\n",
      "2.5126342245127447\n",
      "2.512190210141777\n",
      "2.5117527411227427\n",
      "2.511321665482962\n",
      "2.5108968363493265\n",
      "2.5104781117323487\n",
      "2.510065354320002\n",
      "2.5096584312809123\n",
      "2.509257214076474\n",
      "2.5088615782814814\n",
      "2.508471403412909\n",
      "2.5080865727664508\n",
      "2.5077069732604915\n",
      "2.5073324952871636\n",
      "2.5069630325701806\n",
      "2.5065984820291387\n",
      "2.506238743650003\n",
      "2.5058837203614974\n",
      "2.5055333179171364\n",
      "2.5051874447826465\n",
      "2.504846012028532\n",
      "2.5045089332275596\n",
      "2.504176124356938\n",
      "2.503847503704973\n",
      "2.503522991782017\n",
      "2.503202511235483\n",
      "2.502885986768775\n",
      "2.5025733450639334\n",
      "2.502264514707825\n",
      "2.501959426121724\n",
      "2.5016580114941234\n",
      "2.501360204716618\n",
      "2.50106594132273\n",
      "2.5007751584295277\n",
      "2.5004877946819084\n",
      "2.5002037901994214\n",
      "2.4999230865255107\n",
      "2.499645626579053\n",
      "2.4993713546080967\n",
      "2.4991002161456755\n",
      "2.498832157967613\n",
      "2.4985671280522124\n",
      "2.49830507554174\n",
      "2.4980459507056185\n",
      "2.4977897049052333\n",
      "2.4975362905602903\n",
      "2.4972856611166323\n",
      "2.4970377710154477\n",
      "2.496792575663799\n",
      "2.4965500314064095\n",
      "2.4963100954986372\n",
      "2.496072726080583\n",
      "2.495837882152266\n",
      "2.4956055235498287\n",
      "2.495375610922696\n",
      "2.4951481057116625\n",
      "2.4949229701278415\n",
      "2.4947001671324474\n",
      "2.494479660417359\n",
      "2.4942614143864255\n",
      "2.4940453941374794\n",
      "2.4938315654450203\n",
      "2.493619894743534\n",
      "2.4934103491114152\n",
      "2.493202896255464\n",
      "2.492997504495928\n",
      "2.4927941427520586\n",
      "2.4925927805281627\n",
      "2.4923933879001168\n",
      "2.492195935502334\n",
      "2.4920003945151437\n",
      "2.4918067366525807\n",
      "2.491614934150556\n",
      "2.4914249597553875\n",
      "2.49123678671269\n",
      "2.491050388756583\n",
      "2.4908657400992262\n",
      "2.490682815420653\n",
      "2.4905015898588885\n",
      "2.490322039000355\n",
      "2.4901441388705288\n",
      "2.4899678659248607\n",
      "2.48979319703993\n"
     ]
    }
   ],
   "source": [
    "weights = torch.tensor(np.random.randn(N,N), requires_grad=True)\n",
    "bias = torch.tensor(np.random.randn(N), requires_grad=True)\n",
    "for i in range(200):\n",
    "    # Forward pass\n",
    "    xw = X_tensor @ weights\n",
    "    xw_plus_b = xw + bias\n",
    "    p = torch.exp(xw_plus_b) / torch.exp(xw_plus_b).sum(axis=1,keepdims=True)\n",
    "    selected_elements = p[np.arange(p.shape[0]), y]\n",
    "    loss = (-1*selected_elements.log().sum() / p.shape[0])\n",
    "    print(loss.item())\n",
    "    \n",
    "    #Backward pass\n",
    "\n",
    "    loss.backward()\n",
    "    with torch.no_grad():  # Ensure we're not tracking these operations for the next gradient computation\n",
    "        weights -= 10*weights.grad * 1  # Update weights\n",
    "        bias -= 10*bias.grad * 1  # Update bias\n",
    "\n",
    "        weights.grad.zero_()  # Clear gradients after updating\n",
    "        bias.grad.zero_()"
   ]
  },
  {
   "cell_type": "code",
   "execution_count": 21,
   "id": "e8c5c04f",
   "metadata": {},
   "outputs": [
    {
     "name": "stdout",
     "output_type": "stream",
     "text": [
      "['m.', 'mosliann.', 'kanaroprmoneyireldl.', 'ch.', 'pcysa.', 'kontahmaknn.', 'reishntayyaitey.', 'kari.', 'jcelienbra.', 'a.', 'a.', 'zegha.', 'l.', 'k.', 'zahmasin.', 'llaysele.', 'reseyll.', 'bri.', 'hurakaith.', 'keniesharorn.', 'jerelia.', 'g.', 'aduepevicha.', 'ckaiaryeli.', 'ell.', 'cbe.', 'prydis.', 'dazadela.', 'tia.', 'jkacokyegevada.', 'm.', 'failenee.', 'iariynjijacay.', 'zl.', 'madelelaz.', 'ze.', 'adahyey.', 'jan.', 'zah.', 'deshahipchar.', 'dazan.', 'arrlilaicoiibaryateniesalha.', 'syltoniyn.', 'h.', 'lli.', 'tanik.', 'brylle.', 'eth.', 'g.', 'counn.']\n"
     ]
    }
   ],
   "source": [
    "all_words = []\n",
    "for i in range(50):\n",
    "    sampled_word = \"\"\n",
    "    letter = \"%\"\n",
    "    while letter != \".\":\n",
    "        letter_ix = char_to_index[letter]\n",
    "        letter_ohe = torch.tensor(np.eye(N)[letter_ix])\n",
    "        xw = letter_ohe @ weights\n",
    "        xw_plus_b = xw + bias\n",
    "        sampling_distribution =torch.exp(xw_plus_b).div(torch.exp(xw_plus_b).sum()).detach().numpy()\n",
    "\n",
    "        #sampling_distribution = bigram_distributions[letter_ix]\n",
    "        #sampling_distribution = np.ones(27)/27\n",
    "        sampled_index = np.random.choice(len(sampling_distribution), size=1, p=sampling_distribution)[0]\n",
    "        letter = index_to_char[sampled_index]\n",
    "        sampled_word+=letter\n",
    "    all_words.append(sampled_word)\n",
    "print(all_words)"
   ]
  },
  {
   "cell_type": "markdown",
   "id": "04014b75",
   "metadata": {},
   "source": [
    "Very nice! We are getting very similar results."
   ]
  },
  {
   "cell_type": "code",
   "execution_count": null,
   "id": "d228bef1",
   "metadata": {},
   "outputs": [],
   "source": []
  }
 ],
 "metadata": {
  "kernelspec": {
   "display_name": "Python 3 (ipykernel)",
   "language": "python",
   "name": "python3"
  },
  "language_info": {
   "codemirror_mode": {
    "name": "ipython",
    "version": 3
   },
   "file_extension": ".py",
   "mimetype": "text/x-python",
   "name": "python",
   "nbconvert_exporter": "python",
   "pygments_lexer": "ipython3",
   "version": "3.11.7"
  }
 },
 "nbformat": 4,
 "nbformat_minor": 5
}
